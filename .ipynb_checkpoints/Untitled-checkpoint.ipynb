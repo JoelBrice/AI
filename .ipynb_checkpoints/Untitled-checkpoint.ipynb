{
 "cells": [
  {
   "cell_type": "code",
   "execution_count": 47,
   "metadata": {},
   "outputs": [],
   "source": [
    "#import libraries\n",
    "import pandas as pd\n",
    "import requests"
   ]
  },
  {
   "cell_type": "code",
   "execution_count": 54,
   "metadata": {},
   "outputs": [],
   "source": [
    "\n",
    "url = 'https://api.exchangerate.host/latest'\n",
    "response = requests.get(url)\n",
    "data = response.json()\n",
    "\n",
    "# print the data\n",
    "# print(data) "
   ]
  },
  {
   "cell_type": "code",
   "execution_count": null,
   "metadata": {},
   "outputs": [],
   "source": [
    "# Clean the data by removing columns that are not needed or not useful"
   ]
  },
  {
   "cell_type": "code",
   "execution_count": 52,
   "metadata": {},
   "outputs": [],
   "source": [
    "df = pd.DataFrame(data)"
   ]
  },
  {
   "cell_type": "code",
   "execution_count": 53,
   "metadata": {},
   "outputs": [
    {
     "data": {
      "text/plain": [
       "motd        True\n",
       "success    False\n",
       "base       False\n",
       "date       False\n",
       "rates       True\n",
       "dtype: bool"
      ]
     },
     "execution_count": 53,
     "metadata": {},
     "output_type": "execute_result"
    }
   ],
   "source": [
    "df.isnull().any()"
   ]
  },
  {
   "cell_type": "code",
   "execution_count": 35,
   "metadata": {},
   "outputs": [
    {
     "name": "stdout",
     "output_type": "stream",
     "text": [
      "                                                  motd  success base  \\\n",
      "msg  If you or your company use this project or lik...     True  EUR   \n",
      "url                 https://exchangerate.host/#/donate     True  EUR   \n",
      "AED                                                NaN     True  EUR   \n",
      "AFN                                                NaN     True  EUR   \n",
      "ALL                                                NaN     True  EUR   \n",
      "..                                                 ...      ...  ...   \n",
      "XPT                                                NaN     True  EUR   \n",
      "YER                                                NaN     True  EUR   \n",
      "ZAR                                                NaN     True  EUR   \n",
      "ZMW                                                NaN     True  EUR   \n",
      "ZWL                                                NaN     True  EUR   \n",
      "\n",
      "           date       rates  \n",
      "msg  2021-06-25         NaN  \n",
      "url  2021-06-25         NaN  \n",
      "AED  2021-06-25    4.383876  \n",
      "AFN  2021-06-25   94.335962  \n",
      "ALL  2021-06-25  122.671356  \n",
      "..          ...         ...  \n",
      "XPT  2021-06-25    0.001083  \n",
      "YER  2021-06-25  298.433651  \n",
      "ZAR  2021-06-25   16.927770  \n",
      "ZMW  2021-06-25   26.987614  \n",
      "ZWL  2021-06-25  384.324710  \n",
      "\n",
      "[172 rows x 5 columns]\n"
     ]
    }
   ],
   "source": [
    "print(df)"
   ]
  }
 ],
 "metadata": {
  "kernelspec": {
   "display_name": "Python 3",
   "language": "python",
   "name": "python3"
  },
  "language_info": {
   "codemirror_mode": {
    "name": "ipython",
    "version": 3
   },
   "file_extension": ".py",
   "mimetype": "text/x-python",
   "name": "python",
   "nbconvert_exporter": "python",
   "pygments_lexer": "ipython3",
   "version": "3.8.5"
  }
 },
 "nbformat": 4,
 "nbformat_minor": 4
}
