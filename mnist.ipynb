{
 "cells": [
  {
   "cell_type": "code",
   "execution_count": 94,
   "metadata": {},
   "outputs": [],
   "source": [
    "import tensorflow as tf\n",
    "import numpy as np\n",
    "import sklearn"
   ]
  },
  {
   "cell_type": "code",
   "execution_count": 95,
   "metadata": {},
   "outputs": [],
   "source": [
    "mnist = tf.keras.datasets.mnist\n",
    "(x_train, y_train), (x_test, y_test) = mnist.load_data()\n",
    "x_train, x_test = x_train / 255.0, x_test / 255.0\n",
    "model = tf.keras.models.Sequential([\n",
    "  tf.keras.layers.Flatten(input_shape=(28, 28)),\n",
    "  tf.keras.layers.Dense(128, activation='relu'),\n",
    "  tf.keras.layers.Dropout(0.2),\n",
    "  tf.keras.layers.Dense(10)\n",
    "])"
   ]
  },
  {
   "cell_type": "code",
   "execution_count": 96,
   "metadata": {},
   "outputs": [
    {
     "data": {
      "text/plain": [
       "array([[-0.05755076, -0.6135505 , -0.28038967, -0.0276469 , -0.44235867,\n",
       "         0.24564645,  0.4486359 ,  0.7143568 , -0.31883582, -0.02743676]],\n",
       "      dtype=float32)"
      ]
     },
     "execution_count": 96,
     "metadata": {},
     "output_type": "execute_result"
    }
   ],
   "source": [
    "predictions = model(x_train[:1]).numpy()\n",
    "predictions"
   ]
  },
  {
   "cell_type": "code",
   "execution_count": 97,
   "metadata": {},
   "outputs": [
    {
     "data": {
      "text/plain": [
       "2.100349"
      ]
     },
     "execution_count": 97,
     "metadata": {},
     "output_type": "execute_result"
    }
   ],
   "source": [
    "tf.nn.softmax(predictions).numpy()\n",
    "loss_fn(y_train[:1], predictions).numpy()"
   ]
  },
  {
   "cell_type": "code",
   "execution_count": 98,
   "metadata": {},
   "outputs": [],
   "source": [
    "loss_fn = tf.keras.losses.SparseCategoricalCrossentropy(from_logits=True)"
   ]
  },
  {
   "cell_type": "code",
   "execution_count": 99,
   "metadata": {},
   "outputs": [],
   "source": [
    "model.compile(optimizer='adam',\n",
    "              loss=loss_fn,\n",
    "              metrics=['accuracy'])"
   ]
  },
  {
   "cell_type": "code",
   "execution_count": 104,
   "metadata": {},
   "outputs": [
    {
     "name": "stdout",
     "output_type": "stream",
     "text": [
      "Epoch 1/5\n",
      "1875/1875 [==============================] - 3s 2ms/step - loss: 0.0844 - accuracy: 0.9744\n",
      "Epoch 2/5\n",
      "1875/1875 [==============================] - 3s 1ms/step - loss: 0.0738 - accuracy: 0.9769\n",
      "Epoch 3/5\n",
      "1875/1875 [==============================] - 3s 1ms/step - loss: 0.0645 - accuracy: 0.9795\n",
      "Epoch 4/5\n",
      "1875/1875 [==============================] - 3s 2ms/step - loss: 0.0576 - accuracy: 0.9808\n",
      "Epoch 5/5\n",
      "1875/1875 [==============================] - 3s 1ms/step - loss: 0.0514 - accuracy: 0.9833\n"
     ]
    },
    {
     "data": {
      "text/plain": [
       "<tensorflow.python.keras.callbacks.History at 0x1776e707f70>"
      ]
     },
     "execution_count": 104,
     "metadata": {},
     "output_type": "execute_result"
    }
   ],
   "source": [
    "model.fit(x_train, y_train, epochs=5)"
   ]
  },
  {
   "cell_type": "code",
   "execution_count": 105,
   "metadata": {},
   "outputs": [
    {
     "name": "stdout",
     "output_type": "stream",
     "text": [
      "313/313 - 0s - loss: 0.0699 - accuracy: 0.9800\n"
     ]
    },
    {
     "data": {
      "text/plain": [
       "[0.06987950950860977, 0.9800000190734863]"
      ]
     },
     "execution_count": 105,
     "metadata": {},
     "output_type": "execute_result"
    }
   ],
   "source": [
    "model.evaluate(x_test,  y_test, verbose=2)"
   ]
  },
  {
   "cell_type": "code",
   "execution_count": 106,
   "metadata": {},
   "outputs": [],
   "source": [
    "probability_model = tf.keras.Sequential([\n",
    "  model,\n",
    "  tf.keras.layers.Softmax()\n",
    "])"
   ]
  },
  {
   "cell_type": "code",
   "execution_count": 107,
   "metadata": {},
   "outputs": [
    {
     "data": {
      "text/plain": [
       "<tf.Tensor: shape=(5, 10), dtype=float32, numpy=\n",
       "array([[5.6756932e-09, 9.4583035e-09, 2.8281113e-07, 1.2649973e-04,\n",
       "        9.4014789e-14, 1.6894374e-08, 1.1748263e-15, 9.9987304e-01,\n",
       "        5.9432931e-08, 1.7485377e-07],\n",
       "       [9.1702657e-10, 3.5839079e-05, 9.9996412e-01, 1.7672081e-08,\n",
       "        2.2154553e-23, 2.3691557e-08, 5.2938504e-12, 4.9211672e-16,\n",
       "        3.5894381e-09, 1.1936218e-16],\n",
       "       [4.3798956e-08, 9.9972075e-01, 2.3909464e-05, 6.4441326e-07,\n",
       "        1.6838677e-06, 7.2483708e-08, 9.4971091e-07, 2.2277349e-04,\n",
       "        2.9146904e-05, 2.6812913e-08],\n",
       "       [9.9999309e-01, 7.0278332e-13, 3.5659536e-06, 2.5072524e-09,\n",
       "        3.3495309e-09, 2.2077063e-07, 1.8981237e-06, 2.6933108e-07,\n",
       "        3.8185757e-10, 9.1252411e-07],\n",
       "       [9.4150749e-07, 1.4605134e-12, 1.1094733e-05, 2.9119263e-09,\n",
       "        9.9925488e-01, 5.7946875e-07, 2.8529809e-07, 3.6004163e-05,\n",
       "        4.6944507e-08, 6.9627690e-04]], dtype=float32)>"
      ]
     },
     "execution_count": 107,
     "metadata": {},
     "output_type": "execute_result"
    }
   ],
   "source": [
    "probability_model(x_test[:5])"
   ]
  },
  {
   "cell_type": "code",
   "execution_count": 108,
   "metadata": {},
   "outputs": [
    {
     "name": "stdout",
     "output_type": "stream",
     "text": [
      "tf.Tensor(\n",
      "[[5.6756932e-09 9.4583035e-09 2.8281113e-07 1.2649973e-04 9.4014789e-14\n",
      "  1.6894374e-08 1.1748263e-15 9.9987304e-01 5.9432931e-08 1.7485377e-07]\n",
      " [9.1702657e-10 3.5839079e-05 9.9996412e-01 1.7672081e-08 2.2154553e-23\n",
      "  2.3691557e-08 5.2938504e-12 4.9211672e-16 3.5894381e-09 1.1936218e-16]\n",
      " [4.3798956e-08 9.9972075e-01 2.3909464e-05 6.4441326e-07 1.6838677e-06\n",
      "  7.2483708e-08 9.4971091e-07 2.2277349e-04 2.9146904e-05 2.6812913e-08]\n",
      " [9.9999309e-01 7.0278332e-13 3.5659536e-06 2.5072524e-09 3.3495309e-09\n",
      "  2.2077063e-07 1.8981237e-06 2.6933108e-07 3.8185757e-10 9.1252411e-07]\n",
      " [9.4150749e-07 1.4605134e-12 1.1094733e-05 2.9119263e-09 9.9925488e-01\n",
      "  5.7946875e-07 2.8529809e-07 3.6004163e-05 4.6944507e-08 6.9627690e-04]], shape=(5, 10), dtype=float32)\n"
     ]
    }
   ],
   "source": [
    "print(probability_model(x_test[:5]))"
   ]
  },
  {
   "cell_type": "code",
   "execution_count": null,
   "metadata": {},
   "outputs": [],
   "source": []
  },
  {
   "cell_type": "code",
   "execution_count": null,
   "metadata": {},
   "outputs": [],
   "source": []
  }
 ],
 "metadata": {
  "kernelspec": {
   "display_name": "Python 3",
   "language": "python",
   "name": "python3"
  },
  "language_info": {
   "codemirror_mode": {
    "name": "ipython",
    "version": 3
   },
   "file_extension": ".py",
   "mimetype": "text/x-python",
   "name": "python",
   "nbconvert_exporter": "python",
   "pygments_lexer": "ipython3",
   "version": "3.8.5"
  }
 },
 "nbformat": 4,
 "nbformat_minor": 4
}
