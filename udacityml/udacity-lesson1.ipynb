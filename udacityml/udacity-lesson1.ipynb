{
 "metadata": {
  "name": ""
 },
 "nbformat": 3,
 "nbformat_minor": 0,
 "worksheets": [
  {
   "cells": [
    {
     "cell_type": "heading",
     "level": 3,
     "metadata": {},
     "source": [
      "Getting familiar with iPython notebook"
     ]
    },
    {
     "cell_type": "code",
     "collapsed": false,
     "input": [
      "print(\"hello world\")"
     ],
     "language": "python",
     "metadata": {},
     "outputs": [],
     "prompt_number": ""
    },
    {
     "cell_type": "code",
     "collapsed": false,
     "input": [
      "########################################\n",
      "#                   1                  #\n",
      "########################################\n",
      "\n",
      "# Load the boston dataset included with sklearn\n",
      "\n",
      "##### Start solution code #####\n",
      "from sklearn import datasets\n",
      "dataset = datasets.load_boston()\n",
      "##### End solution code #####"
     ],
     "language": "python",
     "metadata": {},
     "outputs": [],
     "prompt_number": ""
    },
    {
     "cell_type": "code",
     "collapsed": false,
     "input": [
      "########################################\n",
      "#                   2                  #\n",
      "########################################\n",
      "\n",
      "# Run this cell to see what it does.\n",
      "# Then modify the code to print both the description and the data point.\n",
      "\n",
      "dataset.DESCR\n",
      "dataset.data[0]\n",
      "\n",
      "##### Start solution code #####\n",
      "print(dataset.DESCR)\n",
      "print(dataset.data[0])\n",
      "##### end solution code"
     ],
     "language": "python",
     "metadata": {},
     "outputs": [],
     "prompt_number": ""
    },
    {
     "cell_type": "heading",
     "level": 3,
     "metadata": {},
     "source": [
      "Loading the data"
     ]
    },
    {
     "cell_type": "code",
     "collapsed": false,
     "input": [
      "# Make plots appear inline rather than in a separate window\n",
      "# no-import-all prevents importing * from numpy and matplotlib\n",
      "%pylab inline --no-import-all\n",
      "\n",
      "# Import some useful libraries\n",
      "import scipy\n",
      "import numpy\n",
      "import pandas\n",
      "import seaborn # Importing seaborn automatically makes our plots look better\n",
      "import matplotlib.pyplot as pyplt"
     ],
     "language": "python",
     "metadata": {},
     "outputs": [],
     "prompt_number": ""
    },
    {
     "cell_type": "code",
     "collapsed": false,
     "input": [
      "df = pandas.read_csv(\"candy_choices.csv\")\n",
      "df.count()"
     ],
     "language": "python",
     "metadata": {},
     "outputs": [],
     "prompt_number": ""
    },
    {
     "cell_type": "code",
     "collapsed": false,
     "input": [
      "# Each event will contain a tuple (selection index, selection, time since previous selection)\n",
      "event_list = [] \n",
      "\n",
      "i = 0\n",
      "time_since_last = {} \n",
      "\n",
      "for item in df[\"candy\"].values:\n",
      "    if item in time_since_last:\n",
      "        event_list.append((i, item, time_since_last[item]))\n",
      "    \n",
      "    for e in time_since_last.keys():\n",
      "        time_since_last[e]+=1\n",
      "            \n",
      "    time_since_last[item] = 0\n",
      "    i += 1"
     ],
     "language": "python",
     "metadata": {},
     "outputs": [],
     "prompt_number": ""
    },
    {
     "cell_type": "code",
     "collapsed": false,
     "input": [
      "event_list[:10]"
     ],
     "language": "python",
     "metadata": {},
     "outputs": [],
     "prompt_number": ""
    },
    {
     "cell_type": "heading",
     "level": 3,
     "metadata": {},
     "source": [
      "Plots of interselection times"
     ]
    },
    {
     "cell_type": "code",
     "collapsed": false,
     "input": [
      "def plot_interselection_time(events, color, candy_name):\n",
      "    # Pull out the interselection times for the appropriate candy\n",
      "    candy = [] \n",
      "    for (i, choice, time) in events:\n",
      "        if choice == candy_name:\n",
      "            candy.append(time)\n",
      "            \n",
      "    # Plot the interselection times\n",
      "    plt.plot(range(len(candy)), candy, color=color, label=candy_name)\n",
      "    \n",
      "    # Add a legend and label the axes\n",
      "    plt.legend(frameon=True, shadow=True, framealpha=0.7, loc=0, prop={'size':14})\n",
      "    plt.xlabel(\"Selection number\", fontsize=14)\n",
      "    plt.ylabel(\"Interselection time\", fontsize=14)"
     ],
     "language": "python",
     "metadata": {},
     "outputs": [],
     "prompt_number": ""
    },
    {
     "cell_type": "code",
     "collapsed": false,
     "input": [
      "plot_interselection_time(event_list, \"orange\", \"airhead\")"
     ],
     "language": "python",
     "metadata": {},
     "outputs": [],
     "prompt_number": ""
    },
    {
     "cell_type": "code",
     "collapsed": false,
     "input": [
      "plot_interselection_time(event_list, \"red\", \"starburst\")\n",
      "plot_interselection_time(event_list, \"orange\", \"airhead\")"
     ],
     "language": "python",
     "metadata": {},
     "outputs": [],
     "prompt_number": ""
    },
    {
     "cell_type": "code",
     "collapsed": false,
     "input": [
      "########################################\n",
      "#                   3                  #\n",
      "########################################\n",
      "\n",
      "# Modify this function so that a 5 on the x-axis corresponds to\n",
      "# the 5th time any candy was chosen\n",
      "\n",
      "def plot_interselection_time_scaled(events, color, candy_name):\n",
      "    # Pull out the interselection times for the appropriate candy\n",
      "    candy = [] \n",
      "    for (i, choice, time) in events:\n",
      "        if choice == candy_name:\n",
      "            candy.append(time)\n",
      "            \n",
      "    # Plot the interselection times\n",
      "    plt.plot(range(len(candy)), candy, color=color, label=candy_name)\n",
      "    \n",
      "    # Add a legend and label the axes\n",
      "    plt.legend(frameon=True, shadow=True, framealpha=0.7, loc=0, prop={'size':14})\n",
      "    plt.xlabel(\"Selection number\", fontsize=14)\n",
      "    plt.ylabel(\"Interselection time\", fontsize=14)\n",
      "    \n",
      "    \n",
      "##### Start solution code #####\n",
      "def plot_interselection_time_scaled(events, color, candy_name):\n",
      "    # Pull out the interselection times for the appropriate candy\n",
      "    candy = [] \n",
      "    selection_numbers = []\n",
      "    for (i, choice, time) in events:\n",
      "        if choice == candy_name:\n",
      "            candy.append(time)\n",
      "            selection_numbers.append(i)\n",
      "            \n",
      "    # Plot the interselection times\n",
      "    plt.plot(selection_numbers, candy, color=color, label=candy_name)\n",
      "    \n",
      "    # Add a legend and label the axes\n",
      "    plt.legend(frameon=True, shadow=True, framealpha=0.7, loc=0, prop={'size':14})\n",
      "    plt.xlabel(\"Selection number\", fontsize=14)\n",
      "    plt.ylabel(\"Interselection time\", fontsize=14)\n",
      "##### End solution code"
     ],
     "language": "python",
     "metadata": {},
     "outputs": [],
     "prompt_number": ""
    },
    {
     "cell_type": "code",
     "collapsed": false,
     "input": [
      "plot_interselection_time_scaled(event_list, \"orange\", \"airhead\")"
     ],
     "language": "python",
     "metadata": {},
     "outputs": [],
     "prompt_number": ""
    },
    {
     "cell_type": "code",
     "collapsed": false,
     "input": [
      "plot_interselection_time_scaled(event_list, \"red\", \"starburst\")\n",
      "plot_interselection_time_scaled(event_list, \"orange\", \"airhead\")"
     ],
     "language": "python",
     "metadata": {},
     "outputs": [],
     "prompt_number": ""
    },
    {
     "cell_type": "code",
     "collapsed": false,
     "input": [
      "plot_interselection_time_scaled(event_list, \"blue\", \"reeses\")\n",
      "plot_interselection_time_scaled(event_list, \"green\", \"rolo\")\n",
      "plot_interselection_time_scaled(event_list, \"yellow\", \"kitkat\")\n",
      "plot_interselection_time_scaled(event_list, \"purple\", \"hersheys\")\n",
      "plot_interselection_time_scaled(event_list, \"red\", \"starburst\")\n",
      "plot_interselection_time_scaled(event_list, \"orange\", \"airhead\")"
     ],
     "language": "python",
     "metadata": {},
     "outputs": [],
     "prompt_number": ""
    },
    {
     "cell_type": "code",
     "collapsed": false,
     "input": [
      "plot_interselection_time_scaled(event_list, \"blue\", \"reeses\")\n",
      "plot_interselection_time_scaled(event_list, \"green\", \"rolo\")"
     ],
     "language": "python",
     "metadata": {},
     "outputs": [],
     "prompt_number": ""
    },
    {
     "cell_type": "heading",
     "level": 3,
     "metadata": {},
     "source": [
      "Build training points"
     ]
    },
    {
     "cell_type": "code",
     "collapsed": false,
     "input": [
      "# Each sharedStateEvent will be a map from all candy types to the time since that candy was selected\n",
      "shared_state_events = [{\"airhead\":0, \"starburst\":0, \"hersheys\":0, \"reeses\":0, \"kitkat\":0, \"rolo\":0}]\n",
      "\n",
      "\n",
      "import copy\n",
      "\n",
      "i = 0\n",
      "time_since_last = {}\n",
      "for item in df[\"candy\"].values:\n",
      "    if not item in time_since_last:\n",
      "        time_since_last[item] = 0\n",
      "    \n",
      "    event_list.append((i, item, time_since_last[item]))\n",
      "    \n",
      "    curr_shared_event = copy.deepcopy(shared_state_events[-1])\n",
      "    curr_shared_event[item] = time_since_last[item]\n",
      "    shared_state_events.append(curr_shared_event)\n",
      "    \n",
      "    time_since_last[item] = 0\n",
      "    \n",
      "    for e in time_since_last.keys():\n",
      "        if e!=item:\n",
      "            time_since_last[e]+=1\n",
      "        \n",
      "    i = i+1"
     ],
     "language": "python",
     "metadata": {},
     "outputs": [],
     "prompt_number": ""
    },
    {
     "cell_type": "code",
     "collapsed": false,
     "input": [
      "events_frame = pandas.DataFrame(shared_state_events)"
     ],
     "language": "python",
     "metadata": {},
     "outputs": [],
     "prompt_number": ""
    },
    {
     "cell_type": "code",
     "collapsed": false,
     "input": [
      "events_frame"
     ],
     "language": "python",
     "metadata": {},
     "outputs": [],
     "prompt_number": ""
    },
    {
     "cell_type": "code",
     "collapsed": false,
     "input": [
      "# Set a random seed so we will get the same results each time\n",
      "import random\n",
      "random.seed(5656)\n",
      "\n",
      "# Randomly select 30 events for our test set\n",
      "test_indices = set(random.sample(range(events_frame.shape[0]), 30))\n",
      "\n",
      "# Split our data into training and test data\n",
      "train_features = []\n",
      "train_labels = []\n",
      "test_features = []\n",
      "test_labels = []\n",
      "\n",
      "i = 0\n",
      "for airhead, hersheys, kitkat, reeses, rolo, starburst in events_frame.values:\n",
      "    if i in test_indices:\n",
      "        # Use starburst as our label, and all others as our features\n",
      "        test_features.append([airhead, hersheys, kitkat, reeses, rolo])\n",
      "        test_labels.append(starburst)\n",
      "    else:\n",
      "        train_features.append([airhead, hersheys, kitkat, reeses, rolo])\n",
      "        train_labels.append(starburst)\n",
      "    \n",
      "    i += 1"
     ],
     "language": "python",
     "metadata": {},
     "outputs": [],
     "prompt_number": ""
    },
    {
     "cell_type": "heading",
     "level": 3,
     "metadata": {},
     "source": [
      "Linear regression model with all features"
     ]
    },
    {
     "cell_type": "code",
     "collapsed": false,
     "input": [
      "import sklearn\n",
      "from sklearn import linear_model\n",
      "from sklearn.linear_model import LinearRegression\n",
      "model = linear_model.LinearRegression()\n",
      "model.fit(train_features, train_labels)"
     ],
     "language": "python",
     "metadata": {},
     "outputs": [],
     "prompt_number": ""
    },
    {
     "cell_type": "code",
     "collapsed": false,
     "input": [
      "# See which features had the most influence on our model \n",
      "zip(events_frame.columns, model.coef_)"
     ],
     "language": "python",
     "metadata": {},
     "outputs": [],
     "prompt_number": ""
    },
    {
     "cell_type": "code",
     "collapsed": false,
     "input": [
      "# Print mean squared error and R^2 on the training set\n",
      "print(numpy.mean((model.predict(train_features) - train_labels) ** 2))\n",
      "print(model.score(train_features, train_labels))"
     ],
     "language": "python",
     "metadata": {},
     "outputs": [],
     "prompt_number": ""
    },
    {
     "cell_type": "code",
     "collapsed": false,
     "input": [
      "# Plot predicted and true interarrival times on the training set\n",
      "\n",
      "plt.plot(train_labels, color=\"green\", label=\"True value\")\n",
      "plt.plot(model.predict(train_features), label=\"Predicted value\")\n",
      "\n",
      "plt.xlabel(\"Selection number\", fontsize=14)\n",
      "plt.ylabel(\"Interselection time\", fontsize=14)\n",
      "plt.legend(frameon=True, shadow=True, framealpha=0.7, loc=0, prop={\"size\": 14})"
     ],
     "language": "python",
     "metadata": {},
     "outputs": [],
     "prompt_number": ""
    },
    {
     "cell_type": "code",
     "collapsed": false,
     "input": [
      "# Print mean squared error and R^2 on the test set\n",
      "print(numpy.mean((model.predict(test_features) - test_labels) ** 2))\n",
      "print(model.score(test_features, test_labels))"
     ],
     "language": "python",
     "metadata": {},
     "outputs": [],
     "prompt_number": ""
    },
    {
     "cell_type": "code",
     "collapsed": false,
     "input": [
      "# Plot predicted and true time since selection on the test set \n",
      "\n",
      "plt.plot(test_labels, color=\"green\", label=\"True value\")\n",
      "plt.plot(model.predict(test_features), label=\"Predicted value\")\n",
      "\n",
      "plt.xlabel(\"Selection number\", fontsize=14)\n",
      "plt.ylabel(\"Time since selection\", fontsize=14)\n",
      "plt.legend(frameon=True, shadow=True, framealpha=0.7, loc=0, prop={\"size\": 14})"
     ],
     "language": "python",
     "metadata": {},
     "outputs": [],
     "prompt_number": ""
    },
    {
     "cell_type": "heading",
     "level": 3,
     "metadata": {},
     "source": [
      "Model performance with restricted features"
     ]
    },
    {
     "cell_type": "code",
     "collapsed": false,
     "input": [
      "# Restrict the features to just Airhead and Kitkat - the two most influential features\n",
      "\n",
      "train_features_res = [[e[0], e[2]] for e in train_features]\n",
      "train_labels_res = train_labels\n",
      "test_features_res = [[e[0], e[2]] for e in test_features]\n",
      "test_labels_res = test_labels\n",
      "model_res = linear_model.LinearRegression()\n",
      "model_res.fit(train_features_res, train_labels_res)"
     ],
     "language": "python",
     "metadata": {},
     "outputs": [],
     "prompt_number": ""
    },
    {
     "cell_type": "code",
     "collapsed": false,
     "input": [
      "# Plot predicted and true interarrival times on the training set\n",
      "\n",
      "plt.plot(train_labels_res, color=\"green\", label=\"True interselection time\")\n",
      "plt.plot(model_res.predict(train_features_res), label=\"Predicted interselection time\")\n",
      "\n",
      "plt.xlabel(\"Selection number\", fontsize=14)\n",
      "plt.ylabel(\"Interselection time\", fontsize=14)\n",
      "plt.legend(frameon=True, shadow=True, framealpha=0.7, loc=0, prop={\"size\": 14})"
     ],
     "language": "python",
     "metadata": {},
     "outputs": [],
     "prompt_number": ""
    },
    {
     "cell_type": "code",
     "collapsed": false,
     "input": [
      "# Print the mean squared error and R^2 of the restricted model on the training set\n",
      "\n",
      "print(numpy.mean((model_res.predict(train_features_res) - train_labels_res) ** 2))\n",
      "print(model_res.score(train_features_res, train_labels_res))"
     ],
     "language": "python",
     "metadata": {},
     "outputs": [],
     "prompt_number": ""
    },
    {
     "cell_type": "code",
     "collapsed": false,
     "input": [
      "# Plot predicted and true interarrival times on the test set\n",
      "\n",
      "plt.plot(test_labels_res, color=\"green\", label=\"True interselecton time\")\n",
      "plt.plot(model_res.predict(test_features_res), label=\"Predicted interselection time\")\n",
      "\n",
      "plt.xlabel(\"Selection number\", fontsize=14)\n",
      "plt.ylabel(\"Interselection time\", fontsize=14)\n",
      "plt.legend(frameon=True, shadow=True, framealpha=0.7, loc=0, prop={\"size\": 14})"
     ],
     "language": "python",
     "metadata": {},
     "outputs": [],
     "prompt_number": ""
    },
    {
     "cell_type": "code",
     "collapsed": false,
     "input": [
      "# Print the mean squared error and R^2 of the restricted model on the test set\n",
      "\n",
      "print(numpy.mean((model_res.predict(test_features_res) - test_labels_res) ** 2))\n",
      "print(model_res.score(test_features_res, test_labels_res))"
     ],
     "language": "python",
     "metadata": {},
     "outputs": [],
     "prompt_number": ""
    }
   ],
   "metadata": {}
  }
 ]
}